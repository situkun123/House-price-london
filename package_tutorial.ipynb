{
 "cells": [
  {
   "cell_type": "markdown",
   "metadata": {},
   "source": [
    "## Package use tutorial "
   ]
  },
  {
   "cell_type": "code",
   "execution_count": 19,
   "metadata": {},
   "outputs": [],
   "source": [
    "import sys\n",
    "# This need to be the directory of the package stored\n",
    "# Make sure this is correct, otherwise, nothing will work\n",
    "sys.path.append('situkun123/House-price-london/package/')\n",
    "import zoopapp\n",
    "import zoopasql as zql\n",
    "from zoopasql import zoopdatabase"
   ]
  },
  {
   "cell_type": "markdown",
   "metadata": {},
   "source": [
    "### Basics"
   ]
  },
  {
   "cell_type": "code",
   "execution_count": 5,
   "metadata": {},
   "outputs": [
    {
     "name": "stdout",
     "output_type": "stream",
     "text": [
      "Currently updating E8\n"
     ]
    }
   ],
   "source": [
    "# initialising the house_data package, the data collection is based on postcode\n",
    "# Just enter the postcode prefix, in this case 'E8'(Hackeny) was entered.\n",
    "sess = zoopapp.house_data('E8')"
   ]
  },
  {
   "cell_type": "markdown",
   "metadata": {},
   "source": [
    "### Class properties"
   ]
  },
  {
   "cell_type": "code",
   "execution_count": 6,
   "metadata": {},
   "outputs": [
    {
     "data": {
      "text/plain": [
       "'E8'"
      ]
     },
     "execution_count": 6,
     "metadata": {},
     "output_type": "execute_result"
    }
   ],
   "source": [
    "# postcode\n",
    "sess.postcode"
   ]
  },
  {
   "cell_type": "code",
   "execution_count": 7,
   "metadata": {},
   "outputs": [
    {
     "data": {
      "text/plain": [
       "'Hackney'"
      ]
     },
     "execution_count": 7,
     "metadata": {},
     "output_type": "execute_result"
    }
   ],
   "source": [
    "# District Name (Be aware, not all london postcode are included in the districtName)\n",
    "# More detail can be found in the zoopasql package\n",
    "sess.districtName"
   ]
  },
  {
   "cell_type": "code",
   "execution_count": 8,
   "metadata": {},
   "outputs": [
    {
     "data": {
      "text/plain": [
       "307"
      ]
     },
     "execution_count": 8,
     "metadata": {},
     "output_type": "execute_result"
    }
   ],
   "source": [
    "# Number of current listed properties for this postcode on Zoopala\n",
    "sess.listnumber"
   ]
  },
  {
   "cell_type": "code",
   "execution_count": 10,
   "metadata": {},
   "outputs": [
    {
     "data": {
      "text/plain": [
       "['https://www.zoopla.co.uk/for-sale/property/london/e8/hackney-dalston/?identifier=london%2Fe8%2Fhackney-dalston&amp;q=property%20london%20e8&amp;radius=0&amp;pn=1&amp;page_size=100',\n",
       " 'https://www.zoopla.co.uk/for-sale/property/london/e8/hackney-dalston/?identifier=london%2Fe8%2Fhackney-dalston&amp;q=property%20london%20e8&amp;radius=0&amp;pn=2&amp;page_size=100',\n",
       " 'https://www.zoopla.co.uk/for-sale/property/london/e8/hackney-dalston/?identifier=london%2Fe8%2Fhackney-dalston&amp;q=property%20london%20e8&amp;radius=0&amp;pn=3&amp;page_size=100',\n",
       " 'https://www.zoopla.co.uk/for-sale/property/london/e8/hackney-dalston/?identifier=london%2Fe8%2Fhackney-dalston&amp;q=property%20london%20e8&amp;radius=0&amp;pn=4&amp;page_size=100']"
      ]
     },
     "execution_count": 10,
     "metadata": {},
     "output_type": "execute_result"
    }
   ],
   "source": [
    "# The associated urls\n",
    "sess.urls\n",
    "# In this case 4 pages"
   ]
  },
  {
   "cell_type": "markdown",
   "metadata": {},
   "source": [
    "### Class functions"
   ]
  },
  {
   "cell_type": "markdown",
   "metadata": {},
   "source": [
    "### get_data fuction\n",
    "- return data includes __property_id, price, bed_no, address, property_type, listed_time, agent, first_station, second_station__\n",
    "- either in dataframe or tuples"
   ]
  },
  {
   "cell_type": "code",
   "execution_count": 11,
   "metadata": {},
   "outputs": [
    {
     "name": "stdout",
     "output_type": "stream",
     "text": [
      "{'User-Agent': 'Mozilla/5.0 (Macintosh; Intel Mac OS X 10_10_1) AppleWebKit/537.36 (KHTML, like Gecko) Chrome/37.0.2062.124 Safari/537.36'}\n",
      "7 7 7 7 14\n",
      "{'User-Agent': 'Mozilla/5.0 (Windows NT 6.0; rv:2.0) Gecko/20100101 Firefox/4.0 Opera 12.14'}\n",
      "{'User-Agent': 'Mozilla/5.0 (Windows NT 6.1; WOW64) AppleWebKit/537.17 (KHTML, like Gecko) Chrome/24.0.1312.60 Safari/537.17'}\n",
      "{'User-Agent': 'Mozilla/5.0 (Windows NT 5.1) AppleWebKit/537.36 (KHTML, like Gecko) Chrome/34.0.1847.116 Safari/537.36 Mozilla/5.0 (iPad; U; CPU OS 3_2 like Mac OS X; en-us) AppleWebKit/531.21.10 (KHTML, like Gecko) Version/4.0.4 Mobile/7B334b Safari/531.21.10'}\n",
      "100 100 100 100 200\n",
      "100 100 100 100 200\n",
      "100 100 100 100 200\n",
      "Time taken: 2.84 s\n"
     ]
    },
    {
     "data": {
      "text/html": [
       "<div>\n",
       "<style scoped>\n",
       "    .dataframe tbody tr th:only-of-type {\n",
       "        vertical-align: middle;\n",
       "    }\n",
       "\n",
       "    .dataframe tbody tr th {\n",
       "        vertical-align: top;\n",
       "    }\n",
       "\n",
       "    .dataframe thead th {\n",
       "        text-align: right;\n",
       "    }\n",
       "</style>\n",
       "<table border=\"1\" class=\"dataframe\">\n",
       "  <thead>\n",
       "    <tr style=\"text-align: right;\">\n",
       "      <th></th>\n",
       "      <th>property_id</th>\n",
       "      <th>price</th>\n",
       "      <th>bed_no</th>\n",
       "      <th>address</th>\n",
       "      <th>property_type</th>\n",
       "      <th>listed_time</th>\n",
       "      <th>agent</th>\n",
       "      <th>first_station</th>\n",
       "      <th>second_station</th>\n",
       "    </tr>\n",
       "  </thead>\n",
       "  <tbody>\n",
       "    <tr>\n",
       "      <th>184</th>\n",
       "      <td>48940341</td>\n",
       "      <td>995000.0</td>\n",
       "      <td>4.0</td>\n",
       "      <td>Celandine Drive, Hackney E8</td>\n",
       "      <td>house</td>\n",
       "      <td>2018-09-05</td>\n",
       "      <td>Foxtons - Hackney, E8</td>\n",
       "      <td>Haggerston</td>\n",
       "      <td>Dalston Junction</td>\n",
       "    </tr>\n",
       "    <tr>\n",
       "      <th>216</th>\n",
       "      <td>48394965</td>\n",
       "      <td>975000.0</td>\n",
       "      <td>2.0</td>\n",
       "      <td>Martello Street, London E8</td>\n",
       "      <td>flat</td>\n",
       "      <td>2018-07-16</td>\n",
       "      <td>Dexters - Hackney, E8</td>\n",
       "      <td>London Fields</td>\n",
       "      <td>Hackney Central</td>\n",
       "    </tr>\n",
       "    <tr>\n",
       "      <th>118</th>\n",
       "      <td>49305835</td>\n",
       "      <td>975000.0</td>\n",
       "      <td>2.0</td>\n",
       "      <td>Martello Street, London E8</td>\n",
       "      <td>flat</td>\n",
       "      <td>2018-10-10</td>\n",
       "      <td>Stirling Ackroyd - Hackney, E8</td>\n",
       "      <td>London Fields</td>\n",
       "      <td>Hackney Central</td>\n",
       "    </tr>\n",
       "    <tr>\n",
       "      <th>181</th>\n",
       "      <td>44554998</td>\n",
       "      <td>950000.0</td>\n",
       "      <td>4.0</td>\n",
       "      <td>Fassett Square, London E8</td>\n",
       "      <td>house</td>\n",
       "      <td>2018-09-06</td>\n",
       "      <td>Purplebricks, Head Office, B90</td>\n",
       "      <td>Hackney Downs</td>\n",
       "      <td>Hackney Central</td>\n",
       "    </tr>\n",
       "    <tr>\n",
       "      <th>225</th>\n",
       "      <td>48206014</td>\n",
       "      <td>950000.0</td>\n",
       "      <td>3.0</td>\n",
       "      <td>Dalston Square, Dalston E8</td>\n",
       "      <td>flat</td>\n",
       "      <td>2018-07-02</td>\n",
       "      <td>Foxtons - Hackney, E8</td>\n",
       "      <td>Dalston Junction</td>\n",
       "      <td>Dalston Kingsland</td>\n",
       "    </tr>\n",
       "  </tbody>\n",
       "</table>\n",
       "</div>"
      ],
      "text/plain": [
       "    property_id     price  bed_no                      address property_type  \\\n",
       "184    48940341  995000.0     4.0  Celandine Drive, Hackney E8         house   \n",
       "216    48394965  975000.0     2.0   Martello Street, London E8          flat   \n",
       "118    49305835  975000.0     2.0   Martello Street, London E8          flat   \n",
       "181    44554998  950000.0     4.0    Fassett Square, London E8         house   \n",
       "225    48206014  950000.0     3.0   Dalston Square, Dalston E8          flat   \n",
       "\n",
       "    listed_time                           agent     first_station  \\\n",
       "184  2018-09-05           Foxtons - Hackney, E8        Haggerston   \n",
       "216  2018-07-16           Dexters - Hackney, E8     London Fields   \n",
       "118  2018-10-10  Stirling Ackroyd - Hackney, E8     London Fields   \n",
       "181  2018-09-06  Purplebricks, Head Office, B90     Hackney Downs   \n",
       "225  2018-07-02           Foxtons - Hackney, E8  Dalston Junction   \n",
       "\n",
       "        second_station  \n",
       "184   Dalston Junction  \n",
       "216    Hackney Central  \n",
       "118    Hackney Central  \n",
       "181    Hackney Central  \n",
       "225  Dalston Kingsland  "
      ]
     },
     "execution_count": 11,
     "metadata": {},
     "output_type": "execute_result"
    }
   ],
   "source": [
    "# Get data in pandas dataframe format\n",
    "df = sess.get_data(as_pandas=True)\n",
    "df.head()"
   ]
  },
  {
   "cell_type": "code",
   "execution_count": 13,
   "metadata": {},
   "outputs": [
    {
     "name": "stdout",
     "output_type": "stream",
     "text": [
      "{'User-Agent': 'Mozilla/5.0 (X11; CrOS i686 3912.101.0) AppleWebKit/537.36 (KHTML, like Gecko) Chrome/27.0.1453.116 Safari/537.36'}\n",
      "7 7 7 7 14\n",
      "{'User-Agent': 'Mozilla/5.0 (Macintosh; Intel Mac OS X 10_8_2) AppleWebKit/537.17 (KHTML, like Gecko) Chrome/24.0.1309.0 Safari/537.17'}\n",
      "{'User-Agent': 'Mozilla/5.0 (Macintosh; U; Intel Mac OS X 10_6_5; de-de) AppleWebKit/534.15+ (KHTML, like Gecko) Version/5.0.3 Safari/533.19.4'}\n",
      "{'User-Agent': 'Mozilla/5.0 (Windows NT 6.2; Win64; x64) AppleWebKit/537.36 (KHTML, like Gecko) Chrome/32.0.1667.0 Safari/537.36'}\n",
      "100 100 100 100 200\n",
      "100 100 100 100 200\n",
      "100 100 100 100 200\n",
      "Time taken: 2.8 s\n"
     ]
    },
    {
     "data": {
      "text/plain": [
       "[('49839400',\n",
       "  '700000',\n",
       "  '3',\n",
       "  'Burke House, Dalston Square, London E8',\n",
       "  'flat',\n",
       "  '30th Nov 2018',\n",
       "  'Stirling Ackroyd - Dalston, E8',\n",
       "  'Dalston Junction',\n",
       "  'Dalston Kingsland'),\n",
       " ('49838690',\n",
       "  '600000',\n",
       "  '2',\n",
       "  'Martello Street, London E8',\n",
       "  'flat',\n",
       "  '30th Nov 2018',\n",
       "  'Atkinson Mcleod - Canary Wharf, E14',\n",
       "  'London Fields',\n",
       "  'Hackney Central'),\n",
       " ('49833719',\n",
       "  '895000',\n",
       "  '4',\n",
       "  'London Lane, Hackney E8',\n",
       "  'house',\n",
       "  '30th Nov 2018',\n",
       "  'Southern Home Ownership, EC1M',\n",
       "  'London Fields',\n",
       "  'Hackney Central'),\n",
       " ('49827875',\n",
       "  '650000',\n",
       "  '2',\n",
       "  'Roseberry Place, Dalston E8',\n",
       "  'flat',\n",
       "  '29th Nov 2018',\n",
       "  'Foxtons - Hackney, E8',\n",
       "  'Dalston Junction',\n",
       "  'Dalston Kingsland'),\n",
       " ('49827060',\n",
       "  '750000',\n",
       "  '2',\n",
       "  'Mare Street, London E8',\n",
       "  'flat',\n",
       "  '29th Nov 2018',\n",
       "  'Dexters - Hackney, E8',\n",
       "  'London Fields',\n",
       "  'Hackney Central')]"
      ]
     },
     "execution_count": 13,
     "metadata": {},
     "output_type": "execute_result"
    }
   ],
   "source": [
    "# Get data in tuple format\n",
    "data = sess.get_data(as_pandas=False)\n",
    "data[:5]"
   ]
  },
  {
   "cell_type": "markdown",
   "metadata": {},
   "source": [
    "### get_stats fuction\n",
    "- return two sets of data in tuples, first one is about daily stats , second one is about stats related to different size of properties"
   ]
  },
  {
   "cell_type": "code",
   "execution_count": 14,
   "metadata": {},
   "outputs": [],
   "source": [
    "stats = sess.get_stats()"
   ]
  },
  {
   "cell_type": "markdown",
   "metadata": {},
   "source": [
    "#### cloumns are __('postcode', 'search_time', 'all_no', 'all_min_price', 'all_max_price',  'all_avg_price', 'all_std', 'flat_no', 'flat_min_price', 'flat_max_price', 'flat_avg_price', 'flat_std','house_no', 'house_min_price', 'house_max_price', 'house_avg_price', 'house_std')__"
   ]
  },
  {
   "cell_type": "code",
   "execution_count": 17,
   "metadata": {},
   "outputs": [
    {
     "data": {
      "text/plain": [
       "('E8',\n",
       " '2018-11-30 18:00:54',\n",
       " 300,\n",
       " 190000.0,\n",
       " 3250000.0,\n",
       " 718991.0,\n",
       " 390221.613,\n",
       " 223,\n",
       " 190000.0,\n",
       " 1250000.0,\n",
       " 582065.0,\n",
       " 165638.0,\n",
       " 77,\n",
       " 375000.0,\n",
       " 3250000.0,\n",
       " 1115544.0,\n",
       " 549783.0)"
      ]
     },
     "execution_count": 17,
     "metadata": {},
     "output_type": "execute_result"
    }
   ],
   "source": [
    "daily = stats[0]"
   ]
  },
  {
   "cell_type": "markdown",
   "metadata": {},
   "source": [
    "#### columns are __('postcode', 'search_time','one_no', 'one_min_price', 'one_max_price',  'one_avg_price', 'one_std','two_no', 'two_min_price', 'two_max_price', 'two_avg_price', 'two_std','three_no', 'three_min_price', 'three_max_price', 'three_avg_price', 'three_std','four_no', 'four_min_price', 'four_max_price', 'four_avg_price', 'four_std','fivep_no', 'fivep_min_price', 'fivep_max_price', 'fivep_avg_price', 'fivep_std')__"
   ]
  },
  {
   "cell_type": "code",
   "execution_count": 18,
   "metadata": {},
   "outputs": [
    {
     "data": {
      "text/plain": [
       "('E8',\n",
       " '2018-11-30 18:00:54',\n",
       " 78,\n",
       " 190000.0,\n",
       " 870000.0,\n",
       " 450358.0,\n",
       " 97061.984,\n",
       " 110,\n",
       " 382500.0,\n",
       " 1250000.0,\n",
       " 607000.0,\n",
       " 138699.297,\n",
       " 69,\n",
       " 475000.0,\n",
       " 1695000.0,\n",
       " 829514.0,\n",
       " 262519.696,\n",
       " 26,\n",
       " 425000.0,\n",
       " 2250000.0,\n",
       " 1076308.0,\n",
       " 457869.714,\n",
       " 17,\n",
       " 825000.0,\n",
       " 3250000.0,\n",
       " 1681118.0,\n",
       " 579928.483)"
      ]
     },
     "execution_count": 18,
     "metadata": {},
     "output_type": "execute_result"
    }
   ],
   "source": [
    "bedroom = stats[1]\n",
    "bedroom"
   ]
  },
  {
   "cell_type": "markdown",
   "metadata": {},
   "source": [
    "### singleURL2data fuction\n",
    "- Get the data from a single url \n",
    "- It's a class method\n",
    "- Returns a dataframe"
   ]
  },
  {
   "cell_type": "code",
   "execution_count": 20,
   "metadata": {},
   "outputs": [
    {
     "name": "stdout",
     "output_type": "stream",
     "text": [
      "{'User-Agent': 'Mozilla/5.0 (X11; CrOS i686 4319.74.0) AppleWebKit/537.36 (KHTML, like Gecko) Chrome/29.0.1547.57 Safari/537.36'}\n",
      "25 25 25 25 50\n"
     ]
    }
   ],
   "source": [
    "# The search is any properties near Old Street station within 1/4miles\n",
    "# The url is copy from the internet browser\n",
    "df = zoopapp.house_data.singleURL2data(url='https://www.zoopla.co.uk/for-sale/property/station/rail/old-street/?q=Old%20Street%20Station%2C%20London&radius=0.25&results_sort=newest_listings&search_source=refine')"
   ]
  },
  {
   "cell_type": "code",
   "execution_count": 21,
   "metadata": {},
   "outputs": [
    {
     "data": {
      "text/html": [
       "<div>\n",
       "<style scoped>\n",
       "    .dataframe tbody tr th:only-of-type {\n",
       "        vertical-align: middle;\n",
       "    }\n",
       "\n",
       "    .dataframe tbody tr th {\n",
       "        vertical-align: top;\n",
       "    }\n",
       "\n",
       "    .dataframe thead th {\n",
       "        text-align: right;\n",
       "    }\n",
       "</style>\n",
       "<table border=\"1\" class=\"dataframe\">\n",
       "  <thead>\n",
       "    <tr style=\"text-align: right;\">\n",
       "      <th></th>\n",
       "      <th>property_id</th>\n",
       "      <th>price</th>\n",
       "      <th>bed_no</th>\n",
       "      <th>address</th>\n",
       "      <th>property_type</th>\n",
       "      <th>listed_time</th>\n",
       "      <th>agent</th>\n",
       "      <th>first_station</th>\n",
       "      <th>second_station</th>\n",
       "    </tr>\n",
       "  </thead>\n",
       "  <tbody>\n",
       "    <tr>\n",
       "      <th>0</th>\n",
       "      <td>49821942</td>\n",
       "      <td>1800000</td>\n",
       "      <td>2</td>\n",
       "      <td>Mallow Street, London EC1Y</td>\n",
       "      <td>flat</td>\n",
       "      <td>29th Nov 2018</td>\n",
       "      <td>Ellis &amp;amp; Co - Islington, N1</td>\n",
       "      <td>Old Street</td>\n",
       "      <td>Old Street</td>\n",
       "    </tr>\n",
       "    <tr>\n",
       "      <th>1</th>\n",
       "      <td>49812774</td>\n",
       "      <td>499995</td>\n",
       "      <td>2</td>\n",
       "      <td>St Lukes Estate, Bath Street, Clerkenwell EC1V</td>\n",
       "      <td>flat</td>\n",
       "      <td>28th Nov 2018</td>\n",
       "      <td>N16 Estate Agency, N16</td>\n",
       "      <td>Old Street</td>\n",
       "      <td>Old Street</td>\n",
       "    </tr>\n",
       "    <tr>\n",
       "      <th>2</th>\n",
       "      <td>49762702</td>\n",
       "      <td>875000</td>\n",
       "      <td>2</td>\n",
       "      <td>The Apex Building, Old Street EC1Y</td>\n",
       "      <td>flat</td>\n",
       "      <td>23rd Nov 2018</td>\n",
       "      <td>Urban Spaces Sales, EC1M</td>\n",
       "      <td>Old Street</td>\n",
       "      <td>Old Street</td>\n",
       "    </tr>\n",
       "    <tr>\n",
       "      <th>3</th>\n",
       "      <td>49757098</td>\n",
       "      <td>875000</td>\n",
       "      <td>2</td>\n",
       "      <td>Bunhill Row, London EC1Y</td>\n",
       "      <td>flat</td>\n",
       "      <td>22nd Nov 2018</td>\n",
       "      <td>Space Station, EC2A</td>\n",
       "      <td>Old Street</td>\n",
       "      <td>Old Street</td>\n",
       "    </tr>\n",
       "    <tr>\n",
       "      <th>4</th>\n",
       "      <td>49753853</td>\n",
       "      <td>1995000</td>\n",
       "      <td>3</td>\n",
       "      <td>The Makers, Nile Street N1</td>\n",
       "      <td>flat</td>\n",
       "      <td>22nd Nov 2018</td>\n",
       "      <td>Hurford Salvi Carr - Islington &amp;amp; Shoreditc...</td>\n",
       "      <td>Old Street</td>\n",
       "      <td>Old Street</td>\n",
       "    </tr>\n",
       "  </tbody>\n",
       "</table>\n",
       "</div>"
      ],
      "text/plain": [
       "  property_id    price bed_no                                         address  \\\n",
       "0    49821942  1800000      2                      Mallow Street, London EC1Y   \n",
       "1    49812774   499995      2  St Lukes Estate, Bath Street, Clerkenwell EC1V   \n",
       "2    49762702   875000      2              The Apex Building, Old Street EC1Y   \n",
       "3    49757098   875000      2                        Bunhill Row, London EC1Y   \n",
       "4    49753853  1995000      3                      The Makers, Nile Street N1   \n",
       "\n",
       "  property_type    listed_time  \\\n",
       "0          flat  29th Nov 2018   \n",
       "1          flat  28th Nov 2018   \n",
       "2          flat  23rd Nov 2018   \n",
       "3          flat  22nd Nov 2018   \n",
       "4          flat  22nd Nov 2018   \n",
       "\n",
       "                                               agent first_station  \\\n",
       "0                     Ellis &amp; Co - Islington, N1    Old Street   \n",
       "1                             N16 Estate Agency, N16    Old Street   \n",
       "2                           Urban Spaces Sales, EC1M    Old Street   \n",
       "3                                Space Station, EC2A    Old Street   \n",
       "4  Hurford Salvi Carr - Islington &amp; Shoreditc...    Old Street   \n",
       "\n",
       "  second_station  \n",
       "0     Old Street  \n",
       "1     Old Street  \n",
       "2     Old Street  \n",
       "3     Old Street  \n",
       "4     Old Street  "
      ]
     },
     "execution_count": 21,
     "metadata": {},
     "output_type": "execute_result"
    }
   ],
   "source": [
    "df.head()"
   ]
  },
  {
   "cell_type": "code",
   "execution_count": null,
   "metadata": {},
   "outputs": [],
   "source": []
  }
 ],
 "metadata": {
  "kernelspec": {
   "display_name": "Python 3",
   "language": "python",
   "name": "python3"
  },
  "language_info": {
   "codemirror_mode": {
    "name": "ipython",
    "version": 3
   },
   "file_extension": ".py",
   "mimetype": "text/x-python",
   "name": "python",
   "nbconvert_exporter": "python",
   "pygments_lexer": "ipython3",
   "version": "3.6.4"
  }
 },
 "nbformat": 4,
 "nbformat_minor": 2
}
